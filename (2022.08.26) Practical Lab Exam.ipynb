{
  "nbformat": 4,
  "nbformat_minor": 0,
  "metadata": {
    "colab": {
      "name": "02. Practical Lab Exam.ipynb",
      "provenance": [],
      "authorship_tag": "ABX9TyOLtrO2XgH0F6rUgXkB+i3o",
      "include_colab_link": true
    },
    "kernelspec": {
      "name": "python3",
      "display_name": "Python 3"
    },
    "language_info": {
      "name": "python"
    }
  },
  "cells": [
    {
      "cell_type": "markdown",
      "metadata": {
        "id": "view-in-github",
        "colab_type": "text"
      },
      "source": [
        "<a href=\"https://colab.research.google.com/github/Helaena-Cambel/DSA-58010/blob/main/(2022.08.26)%20Practical%20Lab%20Exam.ipynb\" target=\"_parent\"><img src=\"https://colab.research.google.com/assets/colab-badge.svg\" alt=\"Open In Colab\"/></a>"
      ]
    },
    {
      "cell_type": "markdown",
      "source": [
        "1.   Design an algorithm and the corresponding flowchart (Note: You may use LucidChart or any application) for adding the test scores as given below if the number is even: 26,49,98,87,62,75**\n",
        "2.   Translate the algorithm to a Python program (using Google Colab) "
      ],
      "metadata": {
        "id": "Cehf6Ffob8QN"
      }
    },
    {
      "cell_type": "code",
      "source": [
        "testscores = [26,49,98,87,62,75]\n",
        "\n",
        "even_numbers = [num for num in testscores if num % 2 == 0]\n",
        "show = sum(even_numbers)\n",
        "\n",
        "print (\"The sum of even numbers in test scores is: \", show)"
      ],
      "metadata": {
        "colab": {
          "base_uri": "https://localhost:8080/"
        },
        "id": "K1LrGJPorV9X",
        "outputId": "529e0efb-0eee-4382-9d8c-57e304815c58"
      },
      "execution_count": 3,
      "outputs": [
        {
          "output_type": "stream",
          "name": "stdout",
          "text": [
            "The sum of even numbers in test scores is:  186\n"
          ]
        }
      ]
    }
  ]
}