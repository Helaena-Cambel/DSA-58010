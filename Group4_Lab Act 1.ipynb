{
  "nbformat": 4,
  "nbformat_minor": 0,
  "metadata": {
    "colab": {
      "provenance": [],
      "include_colab_link": true
    },
    "kernelspec": {
      "name": "python3",
      "display_name": "Python 3"
    },
    "language_info": {
      "name": "python"
    }
  },
  "cells": [
    {
      "cell_type": "markdown",
      "metadata": {
        "id": "view-in-github",
        "colab_type": "text"
      },
      "source": [
        "<a href=\"https://colab.research.google.com/github/Helaena-Cambel/DSA-58010/blob/main/Group4_Lab%20Act%201.ipynb\" target=\"_parent\"><img src=\"https://colab.research.google.com/assets/colab-badge.svg\" alt=\"Open In Colab\"/></a>"
      ]
    },
    {
      "cell_type": "markdown",
      "source": [
        "Write a Python class, Polygons that has three instance variables of type str, int, and float, that respectively represent the name of the polygon, its number of sides, and its area. Your class must include a constructor method that initializes each variable to an appropriate value, and your class should include methods for setting the value of each type and retrieving the value of each type."
      ],
      "metadata": {
        "id": "syplogMYPadx"
      }
    },
    {
      "cell_type": "code",
      "source": [
        "#Creating Python class of Polygons wirh three instance variables  \n",
        "#of type str, int, float that represents name, sides, area\n",
        "\n",
        "class Polygon:\n",
        "  def __init__(self,name,sides):\n",
        "    self.name = name\n",
        "    self.sides = sides\n",
        "\n",
        "  def getName(self):\n",
        "    return self.name\n",
        "  def setName(self,name):\n",
        "    self.name = name\n",
        "    \n",
        "  def getSides(self):\n",
        "    return self.sides\n",
        "  def setSides(self,sides):\n",
        "    self.sides = sides\n",
        "\n",
        "def Polygons_Trapezoid():\n",
        "  polygon = Polygon(\"Trapezoid\",6)                  #str type\n",
        "  print(\"Name of the Polygon =\", polygon.getName()) \n",
        "  polygon.setSides(6)                               #int type\n",
        "  print(\"Number of Sides =\", polygon.getSides())\n",
        "\n",
        "Polygons_Trapezoid()     \n",
        "a = int(input(\"Base1 value: \"))\n",
        "b = int(input(\"Base2 value: \"))\n",
        "h = int(input(\"Height value: \"))\n",
        "\n",
        "area = ((a+b)/2)*h           #to compute the area of trapezoid\n",
        "print(\"Area of Trapezoid =\", area)                 #float type"
      ],
      "metadata": {
        "colab": {
          "base_uri": "https://localhost:8080/"
        },
        "id": "XEDt2343J9xN",
        "outputId": "091cbbf7-9d3c-4e87-ce82-1854b10ca984"
      },
      "execution_count": null,
      "outputs": [
        {
          "output_type": "stream",
          "name": "stdout",
          "text": [
            "Name of the Polygon = Trapezoid\n",
            "Number of Sides = 6\n",
            "Base1 value: 3\n",
            "Base2 value: 4\n",
            "Height value: 5\n",
            "Area of Trapezoid = 17.5\n"
          ]
        }
      ]
    }
  ]
}