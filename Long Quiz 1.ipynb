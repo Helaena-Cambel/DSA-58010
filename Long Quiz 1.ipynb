{
  "nbformat": 4,
  "nbformat_minor": 0,
  "metadata": {
    "colab": {
      "provenance": [],
      "authorship_tag": "ABX9TyPN9QHQyC93O/k0nfg5MUT9",
      "include_colab_link": true
    },
    "kernelspec": {
      "name": "python3",
      "display_name": "Python 3"
    },
    "language_info": {
      "name": "python"
    }
  },
  "cells": [
    {
      "cell_type": "markdown",
      "metadata": {
        "id": "view-in-github",
        "colab_type": "text"
      },
      "source": [
        "<a href=\"https://colab.research.google.com/github/Helaena-Cambel/DSA-58010/blob/main/Long%20Quiz%201.ipynb\" target=\"_parent\"><img src=\"https://colab.research.google.com/assets/colab-badge.svg\" alt=\"Open In Colab\"/></a>"
      ]
    },
    {
      "cell_type": "markdown",
      "source": [
        "III. Programming\n",
        "\n",
        "\n",
        "1. Choose array or linked-list data structure\n",
        "2. Create a python that appends each character of your full name, displays your full name and counts the vowels (in Colab)\n",
        "3. Save your program as \"Long Quiz 1\" to your GitHub\n",
        "4. Send the link address of GitHub to the Practical Laboratory folder\n",
        "\n"
      ],
      "metadata": {
        "id": "sifFFUjtBX1X"
      }
    },
    {
      "cell_type": "code",
      "source": [
        "#Program to append each character of full name\n",
        "FullName = []\n",
        "FullName.append ('F')\n",
        "FullName.append ('R')\n",
        "FullName.append ('A')\n",
        "FullName.append ('N')\n",
        "FullName.append ('C')\n",
        "FullName.append ('E')\n",
        "FullName.append ('S')\n",
        "FullName.append (' ')\n",
        "FullName.append ('H')\n",
        "FullName.append ('E')\n",
        "FullName.append ('L')\n",
        "FullName.append ('A')\n",
        "FullName.append ('E')\n",
        "FullName.append ('N')\n",
        "FullName.append ('A')\n",
        "FullName.append (' ')\n",
        "FullName.append ('G.')\n",
        "FullName.append (' ')\n",
        "FullName.append ('C')\n",
        "FullName.append ('A')\n",
        "FullName.append ('M')\n",
        "FullName.append ('B')\n",
        "FullName.append ('E')\n",
        "FullName.append ('L')\n",
        "\n",
        "print(\"Full Name of Student: \", FullName)     #print each character of full name\n",
        "\n",
        "#Program to count the vowels in full name\n",
        "str = \"Frances Helaena Cambel\"\n",
        "print(\"Full Name of Student:\", str)\n",
        "\n",
        "def vowels(str):\n",
        "    vowel = set(\"AEIOUaeiou\")\n",
        "    count = 0 \n",
        "          \n",
        "    for alphabet in str:\n",
        "        if alphabet in vowel:\n",
        "            count = count + 1\n",
        "      \n",
        "    print(\"The vowel count in student's full name is\", count)\n",
        "\n",
        "vowels(str)"
      ],
      "metadata": {
        "colab": {
          "base_uri": "https://localhost:8080/"
        },
        "id": "g2y2sGRJBZOI",
        "outputId": "d61a394b-6903-45ff-cadc-a34ed1133626"
      },
      "execution_count": 15,
      "outputs": [
        {
          "output_type": "stream",
          "name": "stdout",
          "text": [
            "Full Name of Student:  ['F', 'R', 'A', 'N', 'C', 'E', 'S', ' ', 'H', 'E', 'L', 'A', 'E', 'N', 'A', ' ', 'G.', ' ', 'C', 'A', 'M', 'B', 'E', 'L']\n",
            "Full Name of Student: Frances Helaena Cambel\n",
            "The vowel count in student's full name is 8\n"
          ]
        }
      ]
    }
  ]
}