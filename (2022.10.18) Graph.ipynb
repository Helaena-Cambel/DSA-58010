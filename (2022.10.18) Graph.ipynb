{
  "nbformat": 4,
  "nbformat_minor": 0,
  "metadata": {
    "colab": {
      "provenance": [],
      "authorship_tag": "ABX9TyPEHq+DwEEmjjOMUIFrODB9",
      "include_colab_link": true
    },
    "kernelspec": {
      "name": "python3",
      "display_name": "Python 3"
    },
    "language_info": {
      "name": "python"
    }
  },
  "cells": [
    {
      "cell_type": "markdown",
      "metadata": {
        "id": "view-in-github",
        "colab_type": "text"
      },
      "source": [
        "<a href=\"https://colab.research.google.com/github/Helaena-Cambel/DSA-58010/blob/main/(2022.10.18)%20Graph.ipynb\" target=\"_parent\"><img src=\"https://colab.research.google.com/assets/colab-badge.svg\" alt=\"Open In Colab\"/></a>"
      ]
    },
    {
      "cell_type": "code",
      "execution_count": null,
      "metadata": {
        "colab": {
          "base_uri": "https://localhost:8080/"
        },
        "id": "YTBWyPZclmzd",
        "outputId": "40d256d7-630d-4315-cf24-4fd13e45106a"
      },
      "outputs": [
        {
          "output_type": "stream",
          "name": "stdout",
          "text": [
            "{'a': ['c'], 'b': ['c', 'e'], 'c': ['a', 'b', 'd', 'e'], 'd': ['c'], 'e': ['b', 'c'], 'f': []}\n"
          ]
        }
      ],
      "source": [
        "#Graph implementation using Python libraries\n",
        "graph = {\n",
        "    'a': ['c'],\n",
        "    'b': ['c','e'],\n",
        "    'c': ['a','b','d','e'],\n",
        "    'd': ['c'],\n",
        "    'e': ['b','c'],\n",
        "    'f': []\n",
        "}\n",
        "print(graph)\n"
      ]
    },
    {
      "cell_type": "code",
      "source": [
        "#Graph implementation using Python libraries\n",
        "graph = {\n",
        "    'a': ['c'],\n",
        "    'b': ['c','e'],\n",
        "    'c': ['a','b','d','e'],\n",
        "    'd': ['c'],\n",
        "    'e': ['b','c'],\n",
        "    'f': []\n",
        "}\n",
        "print(graph['b'])\n"
      ],
      "metadata": {
        "colab": {
          "base_uri": "https://localhost:8080/"
        },
        "id": "Vgo8uktJls6V",
        "outputId": "733101b9-270e-4c5e-9d3a-2fb5a33d4b1f"
      },
      "execution_count": null,
      "outputs": [
        {
          "output_type": "stream",
          "name": "stdout",
          "text": [
            "['c', 'e']\n"
          ]
        }
      ]
    }
  ]
}