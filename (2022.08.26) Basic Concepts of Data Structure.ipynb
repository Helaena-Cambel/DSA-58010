{
  "nbformat": 4,
  "nbformat_minor": 0,
  "metadata": {
    "colab": {
      "name": "02. Basic Concepts of Data Structure",
      "provenance": [],
      "authorship_tag": "ABX9TyOyxsy4ze5YKM533ndLeX1C",
      "include_colab_link": true
    },
    "kernelspec": {
      "name": "python3",
      "display_name": "Python 3"
    },
    "language_info": {
      "name": "python"
    }
  },
  "cells": [
    {
      "cell_type": "markdown",
      "metadata": {
        "id": "view-in-github",
        "colab_type": "text"
      },
      "source": [
        "<a href=\"https://colab.research.google.com/github/Helaena-Cambel/DSA-58010/blob/main/(2022.08.26)%20Basic%20Concepts%20of%20Data%20Structure.ipynb\" target=\"_parent\"><img src=\"https://colab.research.google.com/assets/colab-badge.svg\" alt=\"Open In Colab\"/></a>"
      ]
    },
    {
      "cell_type": "markdown",
      "source": [
        "**Create a Python program that computes the area of a circle**"
      ],
      "metadata": {
        "id": "3703291dSwqY"
      }
    },
    {
      "cell_type": "code",
      "source": [
        "class Circle():                   #class name\n",
        "  def __init__(self,radius,pi):\n",
        "    self.radius = int(input())    #represents the radius\n",
        "    self.pi = pi                  #represents the pi\n",
        "\n",
        "  def Area(self):\n",
        "    return 3.14*(self.radius*self.radius)  #formula for finding the area of a circle\n",
        "\n",
        "  def display(self):\n",
        "    print(\"The area of a circle is\", self.Area())           \n",
        "\n",
        "circle = Circle(input,3.14)       \n",
        "circle.display()                "
      ],
      "metadata": {
        "colab": {
          "base_uri": "https://localhost:8080/"
        },
        "id": "OHACsCwbS9SR",
        "outputId": "2c37daa4-1d2c-4b30-9e6d-bc36e28fefdd"
      },
      "execution_count": 13,
      "outputs": [
        {
          "output_type": "stream",
          "name": "stdout",
          "text": [
            "5\n",
            "The area of a circle is 78.5\n"
          ]
        }
      ]
    }
  ]
}