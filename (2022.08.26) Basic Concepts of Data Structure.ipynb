{
  "nbformat": 4,
  "nbformat_minor": 0,
  "metadata": {
    "colab": {
      "name": "02. Basic Concepts of Data Structure",
      "provenance": [],
      "authorship_tag": "ABX9TyN6vbIM0bybzZH21L28QW9+",
      "include_colab_link": true
    },
    "kernelspec": {
      "name": "python3",
      "display_name": "Python 3"
    },
    "language_info": {
      "name": "python"
    }
  },
  "cells": [
    {
      "cell_type": "markdown",
      "metadata": {
        "id": "view-in-github",
        "colab_type": "text"
      },
      "source": [
        "<a href=\"https://colab.research.google.com/github/Helaena-Cambel/DSA-58010/blob/main/(2022.08.26)%20Basic%20Concepts%20of%20Data%20Structure.ipynb\" target=\"_parent\"><img src=\"https://colab.research.google.com/assets/colab-badge.svg\" alt=\"Open In Colab\"/></a>"
      ]
    },
    {
      "cell_type": "markdown",
      "source": [
        "**Create a Python program that computes the area of a circle**"
      ],
      "metadata": {
        "id": "3703291dSwqY"
      }
    },
    {
      "cell_type": "code",
      "source": [
        "#Creating a class name (Circle) allows youo to build a circle with radius and pi attributes.\n",
        "class Circle():                   #class name\n",
        "  def __init__(self,radius,pi):\n",
        "    self.radius = int(input())    #represents the radius\n",
        "    self.pi = pi                  #represents the pi\n",
        "\n",
        "#Create an Area() method to calculate the area of the circle\n",
        "  def Area(self):\n",
        "    return 3.14*(self.radius*self.radius)  #formula for finding the area of a circle, given radius\n",
        "\n",
        "#Create a Display() method of an area using an instantiation of a class.\n",
        "  def display(self):\n",
        "    print(\"The area of a circle is\", self.Area())           \n",
        "\n",
        "circle = Circle(input,3.14)       #to create an object with its attributes   \n",
        "circle.display()                "
      ],
      "metadata": {
        "colab": {
          "base_uri": "https://localhost:8080/"
        },
        "id": "OHACsCwbS9SR",
        "outputId": "9afa8924-849f-4288-ef3d-4e35ddbb573c"
      },
      "execution_count": 21,
      "outputs": [
        {
          "output_type": "stream",
          "name": "stdout",
          "text": [
            "3\n",
            "The area of a circle is 28.26\n"
          ]
        }
      ]
    },
    {
      "cell_type": "code",
      "source": [
        "#Creating a class name (Circle) allows youo to build a circle with diameter and pi attributes.\n",
        "class Circle():                   #class name\n",
        "  def __init__(self,diameter,pi):\n",
        "    self.diameter = int(input())    #represents the radius\n",
        "    self.pi = pi                  #represents the pi\n",
        "\n",
        "#Create an Area() method to calculate the area of the circle\n",
        "  def Area(self):\n",
        "    return ((3.14*(self.diameter*self.diameter))/4)  #formula for finding the area of a circle, given diameter\n",
        "\n",
        "#Create a Display() method of an area using an instantiation of a class.\n",
        "  def display(self):\n",
        "    print(\"The area of a circle is\", self.Area())           \n",
        "\n",
        "circle = Circle(input,3.14)       #to create an object with its attributes   \n",
        "circle.display()  "
      ],
      "metadata": {
        "colab": {
          "base_uri": "https://localhost:8080/"
        },
        "id": "L5zt4nS5X5Kj",
        "outputId": "a389c148-579c-4bd6-b45b-e11ff88a6701"
      },
      "execution_count": 22,
      "outputs": [
        {
          "output_type": "stream",
          "name": "stdout",
          "text": [
            "6\n",
            "The area of a circle is 28.26\n"
          ]
        }
      ]
    }
  ]
}