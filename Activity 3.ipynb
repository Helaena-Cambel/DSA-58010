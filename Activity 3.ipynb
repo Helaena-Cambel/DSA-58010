{
  "nbformat": 4,
  "nbformat_minor": 0,
  "metadata": {
    "colab": {
      "provenance": [],
      "authorship_tag": "ABX9TyMUodsmZPWeqB5bk5HMDILF",
      "include_colab_link": true
    },
    "kernelspec": {
      "name": "python3",
      "display_name": "Python 3"
    },
    "language_info": {
      "name": "python"
    }
  },
  "cells": [
    {
      "cell_type": "markdown",
      "metadata": {
        "id": "view-in-github",
        "colab_type": "text"
      },
      "source": [
        "<a href=\"https://colab.research.google.com/github/Helaena-Cambel/DSA-58010/blob/main/Activity%203.ipynb\" target=\"_parent\"><img src=\"https://colab.research.google.com/assets/colab-badge.svg\" alt=\"Open In Colab\"/></a>"
      ]
    },
    {
      "cell_type": "markdown",
      "source": [
        "**Original Code**"
      ],
      "metadata": {
        "id": "DEMqH3jYkRsu"
      }
    },
    {
      "cell_type": "code",
      "execution_count": null,
      "metadata": {
        "id": "Yp9ho9rbjWXZ"
      },
      "outputs": [],
      "source": [
        "# Stack implementation in python\n",
        "\n",
        "# Creating a stack\n",
        "def create_stack():\n",
        "  stack = []\n",
        "  return stack\n",
        "\n",
        "# Creating an empty stack\n",
        "def is_empty(stack):\n",
        "  return len(stack) == 0\n",
        "\n",
        "# Adding items into the stack\n",
        "def push(stack, item):\n",
        "  stack.append(item)\n",
        "  print(\"Pushed Element: \" + item)\n",
        "\n",
        "# Removing an element from the stack\n",
        "def pop(stack):\n",
        "  if (is_empty(stack)):\n",
        "    return \"The stack is empty\"\n",
        "  return stack.pop()\n",
        "\n",
        "stack = create_stack()\n",
        "push(stack, str(1))\n",
        "push(stack, str(2))\n",
        "push(stack, str(3))\n",
        "push(stack, str(4))\n",
        "push(stack, str(5))\n",
        "\n",
        "print(\"\\nThe elements in the stack are: \"+ str(stack))"
      ]
    },
    {
      "cell_type": "markdown",
      "source": [
        "**Question 1: Upon typing the codes, what is the name of the abstract data type? How is it implemented?**\n",
        "> **Stack** is the abstract data type of the given python program. It is implemented because the stack is a linear data structure that follows the Last In First Out principle (LIFO). It indicates that the final element added to the stack should remove first. Stacks can be created using the list data structure that comes with Python. Append() is used instead of push() to add elements to the top of the stack, while pop() removes elements in LIFO order."
      ],
      "metadata": {
        "id": "VkmoA_IwkY6P"
      }
    },
    {
      "cell_type": "markdown",
      "source": [
        "**Question 2: What is the output of the codes?**\n",
        "> The output of the given python program is\n",
        "```\n",
        "Pushed Element: 1\n",
        "Pushed Element: 2\n",
        "Pushed Element: 3\n",
        "Pushed Element: 4\n",
        "Pushed Element: 5\n",
        "The elements in the stack are: ['1', '2', '3', '4', '5']\n",
        "```"
      ],
      "metadata": {
        "id": "gHlbUeJ2ka49"
      }
    },
    {
      "cell_type": "markdown",
      "source": [
        "**Question 3: If you want to type additional codes, what will be the statement to pop 3 elements from the top of the stack?**"
      ],
      "metadata": {
        "id": "PRMJTMwokdaX"
      }
    },
    {
      "cell_type": "code",
      "source": [
        "# Stack implementation in python\n",
        "\n",
        "# Creating a stack\n",
        "def create_stack():\n",
        "    stack = []\n",
        "    return stack\n",
        "\n",
        "# Creating an empty stack\n",
        "def is_empty(stack):\n",
        "    return len(stack) == 0\n",
        "\n",
        "# Adding items into the stack\n",
        "def push(stack, item):\n",
        "    stack.append(item)\n",
        "    print(\"Pushed Element: \" + item)\n",
        "\n",
        "# Removing an element from the stack\n",
        "def pop(stack):\n",
        "    if (is_empty(stack)):\n",
        "        return \"The stack is empty\"\n",
        "    return stack.pop()\n",
        "\n",
        "stack = create_stack()\n",
        "push(stack, str(1))\n",
        "push(stack, str(2))\n",
        "push(stack, str(3))\n",
        "push(stack, str(4))\n",
        "push(stack, str(5))\n",
        "\n",
        "print(\"\\nThe elements in the stack are: \"+ str(stack))\n",
        "\n",
        "# Popping three elements from the top\n",
        "stack.pop(2)      # to pop element number 3\n",
        "stack.pop(1)      # to pop element number 2\n",
        "stack.pop(0)      # to pop element number 1\n",
        "print(\"After popping, the elements left in the stack are\", stack)"
      ],
      "metadata": {
        "colab": {
          "base_uri": "https://localhost:8080/"
        },
        "id": "mw1HhNnBkgAI",
        "outputId": "1aa02f50-8a0b-4ae9-ed9a-de1ff584bbd1"
      },
      "execution_count": 2,
      "outputs": [
        {
          "output_type": "stream",
          "name": "stdout",
          "text": [
            "Pushed Element: 1\n",
            "Pushed Element: 2\n",
            "Pushed Element: 3\n",
            "Pushed Element: 4\n",
            "Pushed Element: 5\n",
            "\n",
            "The elements in the stack are: ['1', '2', '3', '4', '5']\n",
            "After popping, the elements left in the stack are ['4', '5']\n"
          ]
        }
      ]
    },
    {
      "cell_type": "markdown",
      "source": [
        "**Question 4: If you will revise the codes, what will be the statement to determine the length of the stack? (Note: You may add additional methods to count the no. of elements in the stack)**"
      ],
      "metadata": {
        "id": "Z2D2lKitkly0"
      }
    },
    {
      "cell_type": "code",
      "source": [
        "# Stack implementation in python\n",
        "\n",
        "# Creating a stack\n",
        "def create_stack():\n",
        "  stack = []\n",
        "  return stack\n",
        "\n",
        "# Creating an empty stack\n",
        "def is_empty(stack):\n",
        "  return len(stack) == 0\n",
        "\n",
        "# Adding items into the stack\n",
        "def push(stack, item):\n",
        "  stack.append(item)\n",
        "  print(\"Pushed Element: \" + item)\n",
        "\n",
        "# Removing an element from the stack\n",
        "def pop(stack):\n",
        "  if (is_empty(stack)):\n",
        "    return \"The stack is empty\"\n",
        "  return stack.pop()\n",
        "\n",
        "stack = create_stack()\n",
        "push(stack, str(1))\n",
        "push(stack, str(2))\n",
        "push(stack, str(3))\n",
        "push(stack, str(4))\n",
        "push(stack, str(5))\n",
        "\n",
        "print(\"\\nThe elements in the stack are: \"+ str(stack))\n",
        "\n",
        "# Counting the number of elements in the stack\n",
        "str = str(stack)\n",
        "\n",
        "def stack(str):\n",
        "  stack = set(\"12345\")\n",
        "  count = 0 \n",
        "          \n",
        "  for elements in str:\n",
        "    if elements in stack:\n",
        "      count = count + 1\n",
        "      \n",
        "  print(\"The number of elements in the stack is\", count)\n",
        "\n",
        "stack(str)"
      ],
      "metadata": {
        "colab": {
          "base_uri": "https://localhost:8080/"
        },
        "id": "lskdFn5SknP1",
        "outputId": "cd9f52f8-8b84-41ac-f80f-0c28f423758d"
      },
      "execution_count": 3,
      "outputs": [
        {
          "output_type": "stream",
          "name": "stdout",
          "text": [
            "Pushed Element: 1\n",
            "Pushed Element: 2\n",
            "Pushed Element: 3\n",
            "Pushed Element: 4\n",
            "Pushed Element: 5\n",
            "\n",
            "The elements in the stack are: ['1', '2', '3', '4', '5']\n",
            "The number of elements in the stack is 5\n"
          ]
        }
      ]
    }
  ]
}