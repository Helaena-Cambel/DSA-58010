{
  "nbformat": 4,
  "nbformat_minor": 0,
  "metadata": {
    "colab": {
      "provenance": [],
      "include_colab_link": true
    },
    "kernelspec": {
      "name": "python3",
      "display_name": "Python 3"
    },
    "language_info": {
      "name": "python"
    }
  },
  "cells": [
    {
      "cell_type": "markdown",
      "metadata": {
        "id": "view-in-github",
        "colab_type": "text"
      },
      "source": [
        "<a href=\"https://colab.research.google.com/github/Helaena-Cambel/DSA-58010/blob/main/Group4_Lab%20Act%202.ipynb\" target=\"_parent\"><img src=\"https://colab.research.google.com/assets/colab-badge.svg\" alt=\"Open In Colab\"/></a>"
      ]
    },
    {
      "cell_type": "markdown",
      "source": [
        "**Write a short recursive Python function that finds the minimum and maximum values in a sequence without using any loops.**"
      ],
      "metadata": {
        "id": "A6Dfv8v9kGQ8"
      }
    },
    {
      "cell_type": "code",
      "execution_count": null,
      "metadata": {
        "colab": {
          "base_uri": "https://localhost:8080/"
        },
        "id": "66kSh1fbj7lg",
        "outputId": "5ec340b4-4728-445e-f0bc-336f7b2656ca"
      },
      "outputs": [
        {
          "output_type": "stream",
          "name": "stdout",
          "text": [
            "The Minimum element in a given list [2, 4, 6, 8, 10] = 2\n",
            "The Maximum element in a given list [2, 4, 6, 8, 10] = 10\n"
          ]
        }
      ],
      "source": [
        "from typing import List\n",
        "\n",
        "def max_elemnt(G_lst, len_lst):\n",
        "    if len_lst == 1:\n",
        "        return G_lst[0]\n",
        "    return max(G_lst[len_lst - 1], max_elemnt(G_lst, len_lst - 1))\n",
        "\n",
        "def min_elemnt(G_lst, len_lst):\n",
        "    if len_lst == 1:\n",
        "        return G_lst[0]\n",
        "    return min(G_lst[len_lst-1], min_elemnt(G_lst, len_lst-1))\n",
        "\n",
        "G_lst = [2,4,6,8,10]\n",
        "len_lst = len(G_lst)\n",
        "\n",
        "print(\"The Minimum element in a given list\",\n",
        "      G_lst, \"=\", min_elemnt(G_lst, len_lst))\n",
        "print(\"The Maximum element in a given list\",\n",
        "      G_lst, \"=\", max_elemnt(G_lst, len_lst))"
      ]
    }
  ]
}