{
  "nbformat": 4,
  "nbformat_minor": 0,
  "metadata": {
    "colab": {
      "provenance": [],
      "authorship_tag": "ABX9TyPuf1pwVk/xMRN0x2YRBnmN",
      "include_colab_link": true
    },
    "kernelspec": {
      "name": "python3",
      "display_name": "Python 3"
    },
    "language_info": {
      "name": "python"
    }
  },
  "cells": [
    {
      "cell_type": "markdown",
      "metadata": {
        "id": "view-in-github",
        "colab_type": "text"
      },
      "source": [
        "<a href=\"https://colab.research.google.com/github/Helaena-Cambel/DSA-58010/blob/main/Cambel_Activity.ipynb\" target=\"_parent\"><img src=\"https://colab.research.google.com/assets/colab-badge.svg\" alt=\"Open In Colab\"/></a>"
      ]
    },
    {
      "cell_type": "markdown",
      "source": [
        "**Write a Python program to create an array of 10 integers and display the array items. Access individual elements through indexes and compute for the sum.**"
      ],
      "metadata": {
        "id": "cCGzcNUWBn3B"
      }
    },
    {
      "cell_type": "code",
      "source": [
        "Integers = [1, 2, 3, 4, 5, 6, 7, 8, 9, 10]\n",
        "Sum = 0 \n",
        "\n",
        "for n in Integers: \n",
        "  Sum += n \n",
        "  \n",
        "print(\"The 10 integers are\", Integers) \n",
        "print(\"The sum of all the 10 integers above is:\" ,Sum)"
      ],
      "metadata": {
        "id": "9dNDgcGMBo0x",
        "colab": {
          "base_uri": "https://localhost:8080/"
        },
        "outputId": "8c3a91e7-8593-4ba6-dfa1-ecf02648ee0c"
      },
      "execution_count": null,
      "outputs": [
        {
          "output_type": "stream",
          "name": "stdout",
          "text": [
            "The 10 integers are [1, 2, 3, 4, 5, 6, 7, 8, 9, 10]\n",
            "The sum of all the 10 integers above is: 55\n"
          ]
        }
      ]
    },
    {
      "cell_type": "markdown",
      "source": [
        "**Write a Python program to append a new item to the end of the array. Original array: numbers = [1, 2, 3, 4, 5, 6, 7, 8, 9, 10]**"
      ],
      "metadata": {
        "id": "NiK3WUJ9LyjL"
      }
    },
    {
      "cell_type": "code",
      "source": [
        "items = [1, 2, 3, 4, 5, 6, 7, 8, 9, 10]\n",
        "items.append(58010)\n",
        "print(items)"
      ],
      "metadata": {
        "id": "kysr9Dh0MPKv",
        "colab": {
          "base_uri": "https://localhost:8080/"
        },
        "outputId": "b8f3abe9-6939-4102-a464-892e4990dfb6"
      },
      "execution_count": null,
      "outputs": [
        {
          "output_type": "stream",
          "name": "stdout",
          "text": [
            "[1, 2, 3, 4, 5, 6, 7, 8, 9, 10, 58010]\n"
          ]
        }
      ]
    },
    {
      "cell_type": "markdown",
      "source": [
        "**Write a Python program to insert a new item before the second element in an existing array. Original array: numbers = [1, 2, 3, 4, 5, 6, 7, 8, 9, 10]**"
      ],
      "metadata": {
        "id": "ZdtY9KPHMQTY"
      }
    },
    {
      "cell_type": "code",
      "source": [
        "items = [1, 2, 3, 4, 5, 6, 7, 8, 9, 10]\n",
        "items.insert(1, 1.5)\n",
        "print(items)"
      ],
      "metadata": {
        "id": "a18661oWMZc6",
        "colab": {
          "base_uri": "https://localhost:8080/"
        },
        "outputId": "d98056e6-78f5-4e1d-dc38-80e197d6b5b0"
      },
      "execution_count": null,
      "outputs": [
        {
          "output_type": "stream",
          "name": "stdout",
          "text": [
            "[1, 1.5, 2, 3, 4, 5, 6, 7, 8, 9, 10]\n"
          ]
        }
      ]
    },
    {
      "cell_type": "markdown",
      "source": [
        "**Write a Python program to reverse the order of the items in the array. Original array: numbers = [5, 4, 3, 2, 1]**"
      ],
      "metadata": {
        "id": "mjJ_BwS5MZ9E"
      }
    },
    {
      "cell_type": "code",
      "source": [
        "items = [5, 4, 3, 2, 1]\n",
        "items.reverse()\n",
        "print(items)"
      ],
      "metadata": {
        "id": "ot7f-fvlMjiV",
        "colab": {
          "base_uri": "https://localhost:8080/"
        },
        "outputId": "5af8f378-bd7b-4de4-9a92-d001fc27adf3"
      },
      "execution_count": null,
      "outputs": [
        {
          "output_type": "stream",
          "name": "stdout",
          "text": [
            "[1, 2, 3, 4, 5]\n"
          ]
        }
      ]
    },
    {
      "cell_type": "markdown",
      "source": [
        "**Write a Python program to get the length of the array. Original array: numbers = [5, 4, 3, 2, 1]**"
      ],
      "metadata": {
        "id": "2Wx-pHfqMkE4"
      }
    },
    {
      "cell_type": "code",
      "source": [
        "array = [5, 4, 3, 2, 1]\n",
        "L = len(array)\n",
        "print(L)"
      ],
      "metadata": {
        "id": "DEYO_TzfNCIt",
        "colab": {
          "base_uri": "https://localhost:8080/"
        },
        "outputId": "46f25950-8b25-4d65-d300-96cb4b546988"
      },
      "execution_count": null,
      "outputs": [
        {
          "output_type": "stream",
          "name": "stdout",
          "text": [
            "5\n"
          ]
        }
      ]
    }
  ]
}