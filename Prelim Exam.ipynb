{
  "nbformat": 4,
  "nbformat_minor": 0,
  "metadata": {
    "colab": {
      "provenance": [],
      "authorship_tag": "ABX9TyP6IaPNhrTpERtWvykGc55f",
      "include_colab_link": true
    },
    "kernelspec": {
      "name": "python3",
      "display_name": "Python 3"
    },
    "language_info": {
      "name": "python"
    }
  },
  "cells": [
    {
      "cell_type": "markdown",
      "metadata": {
        "id": "view-in-github",
        "colab_type": "text"
      },
      "source": [
        "<a href=\"https://colab.research.google.com/github/Helaena-Cambel/DSA-58010/blob/main/Prelim%20Exam.ipynb\" target=\"_parent\"><img src=\"https://colab.research.google.com/assets/colab-badge.svg\" alt=\"Open In Colab\"/></a>"
      ]
    },
    {
      "cell_type": "markdown",
      "source": [
        "**III. Programming**\n",
        "1. Choose **Array** data structure\n",
        "2. Create a python program that creates the array list below and counts the no. of even numbers A = [1,2,3,4,5,6,7,8,9,10]\n",
        "\n"
      ],
      "metadata": {
        "id": "48m0UvEmTMOv"
      }
    },
    {
      "cell_type": "code",
      "source": [
        "A = [1,2,3,4,5,6,7,8,9,10]\n",
        "print(\"Integers:\", A)\n",
        "\n",
        "int = \"2, 4, 6, 8, 10\"\n",
        "print(\"\")\n",
        "print(\"The even numbers in array are\", int)\n",
        "\n",
        "def even(int):\n",
        "  even = set(\"24680\")\n",
        "  count = 0\n",
        "\n",
        "  for number in int:\n",
        "    if number in even:\n",
        "      count = count + 1\n",
        "\n",
        "  print(\"The count of even numbers in array is\", count)\n",
        "\n",
        "even(int)"
      ],
      "metadata": {
        "colab": {
          "base_uri": "https://localhost:8080/"
        },
        "id": "F4fxawgyU0wd",
        "outputId": "43341c65-1a68-45cc-f052-a95af295845f"
      },
      "execution_count": 13,
      "outputs": [
        {
          "output_type": "stream",
          "name": "stdout",
          "text": [
            "Integers: [1, 2, 3, 4, 5, 6, 7, 8, 9, 10]\n",
            "\n",
            "The even numbers in array are 2, 4, 6, 8, 10\n",
            "The count of even numbers in array is 5\n"
          ]
        }
      ]
    }
  ]
}