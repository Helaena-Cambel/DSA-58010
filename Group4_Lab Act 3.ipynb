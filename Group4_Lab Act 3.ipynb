{
  "nbformat": 4,
  "nbformat_minor": 0,
  "metadata": {
    "colab": {
      "provenance": [],
      "include_colab_link": true
    },
    "kernelspec": {
      "name": "python3",
      "display_name": "Python 3"
    },
    "language_info": {
      "name": "python"
    }
  },
  "cells": [
    {
      "cell_type": "markdown",
      "metadata": {
        "id": "view-in-github",
        "colab_type": "text"
      },
      "source": [
        "<a href=\"https://colab.research.google.com/github/Helaena-Cambel/DSA-58010/blob/main/Group4_Lab%20Act%203.ipynb\" target=\"_parent\"><img src=\"https://colab.research.google.com/assets/colab-badge.svg\" alt=\"Open In Colab\"/></a>"
      ]
    },
    {
      "cell_type": "markdown",
      "source": [
        "**Write a program that can perform the Caesar cipher for English messages that include both upper and lowercase characters.**"
      ],
      "metadata": {
        "id": "XW4QkSySF2Oy"
      }
    },
    {
      "cell_type": "code",
      "execution_count": null,
      "metadata": {
        "colab": {
          "base_uri": "https://localhost:8080/"
        },
        "id": "fJaT8cuKFxtt",
        "outputId": "8dc92e7d-a850-43da-8048-e4ef4da74018"
      },
      "outputs": [
        {
          "output_type": "stream",
          "name": "stdout",
          "text": [
            "Type below what you want to translate in Caesar Cipher.\n",
            "Vlrop\n",
            "\n",
            "Type below your desired value of being shifted.\n",
            "3\n",
            "\n",
            "Result: Yours\n"
          ]
        }
      ],
      "source": [
        "import string\n",
        "\n",
        "print(\"Type below what you want to translate in Caesar Cipher.\")\n",
        "ActualText = str(input())\n",
        "print(\"\\nType below your desired value of being shifted.\")\n",
        "shift = int(input())\n",
        "\n",
        "def Caesar(text, letters):\n",
        "  def ShiftLetter(letter):\n",
        "    return letter[shift:] + letter[:shift]\n",
        "  \n",
        "  ShiftedLetters = tuple(map(ShiftLetter, letters))\n",
        "  FinalText = ''.join(letters)\n",
        "  FinalShiftLetter = ''.join(ShiftedLetters)\n",
        "  array = str.maketrans(FinalText, FinalShiftLetter)\n",
        "  return text.translate(array)\n",
        "\n",
        "print(\"\\nResult:\",Caesar(ActualText, [string.ascii_lowercase, string.ascii_uppercase]))"
      ]
    }
  ]
}