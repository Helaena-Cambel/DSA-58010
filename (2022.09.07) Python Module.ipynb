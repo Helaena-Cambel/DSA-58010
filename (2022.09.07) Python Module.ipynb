{
  "nbformat": 4,
  "nbformat_minor": 0,
  "metadata": {
    "colab": {
      "provenance": [],
      "authorship_tag": "ABX9TyPPSq0x1hGaumIc4VJ7kAAF",
      "include_colab_link": true
    },
    "kernelspec": {
      "name": "python3",
      "display_name": "Python 3"
    },
    "language_info": {
      "name": "python"
    }
  },
  "cells": [
    {
      "cell_type": "markdown",
      "metadata": {
        "id": "view-in-github",
        "colab_type": "text"
      },
      "source": [
        "<a href=\"https://colab.research.google.com/github/Helaena-Cambel/DSA-58010/blob/main/(2022.09.07)%20Python%20Module.ipynb\" target=\"_parent\"><img src=\"https://colab.research.google.com/assets/colab-badge.svg\" alt=\"Open In Colab\"/></a>"
      ]
    },
    {
      "cell_type": "markdown",
      "source": [
        "**Example 1**"
      ],
      "metadata": {
        "id": "ZRHhnDdr0tiw"
      }
    },
    {
      "cell_type": "code",
      "execution_count": 5,
      "metadata": {
        "colab": {
          "base_uri": "https://localhost:8080/"
        },
        "id": "JcQdQYfk0nSZ",
        "outputId": "f4ea9518-a7f5-4cf9-e377-2e4a5e1e3356"
      },
      "outputs": [
        {
          "output_type": "stream",
          "name": "stdout",
          "text": [
            "i\n",
            "f\n"
          ]
        }
      ],
      "source": [
        "import array \n",
        "array.typecodes                                   #get all typecodes \n",
        "\n",
        "A = array.array('i',[1,2,3,4,5,6])                #initialize the elements of array a\n",
        "B = array.array('f',[1.5,2.5,3.5,4.5,5.5,6.5])    #initialize the elements of array b\n",
        "\n",
        "print(A.typecode)                                 #getting the typecode of a\n",
        "print(B.typecode)                                 #getting the typecode of b"
      ]
    },
    {
      "cell_type": "markdown",
      "source": [
        "**Example 2. Create the elements of array A to float/decimal number**"
      ],
      "metadata": {
        "id": "Cd-A87KZ0yYQ"
      }
    },
    {
      "cell_type": "code",
      "source": [
        "A = array.array('f',[1,2,3,4,5,6])    #initializing elements of array A\n",
        "print(A)"
      ],
      "metadata": {
        "colab": {
          "base_uri": "https://localhost:8080/"
        },
        "id": "e-xO-i3t031I",
        "outputId": "ebbe8e54-46ac-42d3-b32d-e416a8f7ab50"
      },
      "execution_count": 10,
      "outputs": [
        {
          "output_type": "stream",
          "name": "stdout",
          "text": [
            "array('f', [1.0, 2.0, 3.0, 4.0, 5.0, 6.0])\n"
          ]
        }
      ]
    },
    {
      "cell_type": "markdown",
      "source": [
        "**Example 3. What is the output of these codes?**\""
      ],
      "metadata": {
        "id": "oJ6HXzmX-yDs"
      }
    },
    {
      "cell_type": "code",
      "source": [
        "from array import array   #importing array from array module\n",
        "a = array('i',[4,5,6,7])  #initializing array a\n",
        "a.insert(1,2)             #inserting element: 2 at index: 1\n",
        "print(a)                  #printing array A\n",
        "a.insert(-1,0)            #insert element:0 at index: -1\n",
        "print(a)\n",
        "a.insert(6,8)             #insert element: 8 at index:6, this is out of range\n",
        "print(a)                  #append the last of the array"
      ],
      "metadata": {
        "colab": {
          "base_uri": "https://localhost:8080/"
        },
        "id": "lh2rwPgE-1_-",
        "outputId": "a33933c6-2af1-4686-b200-1fe0134f43b0"
      },
      "execution_count": 18,
      "outputs": [
        {
          "output_type": "stream",
          "name": "stdout",
          "text": [
            "array('i', [4, 2, 5, 6, 7])\n",
            "array('i', [4, 2, 5, 6, 0, 7])\n",
            "array('i', [4, 2, 5, 6, 0, 7, 8])\n"
          ]
        }
      ]
    },
    {
      "cell_type": "code",
      "source": [
        "import array\n",
        "a = array.array('i',[4,5,6,7])  #initializing array a\n",
        "b = array.array('i',[1,2,3])    #initializing array b\n",
        "a.insert(1,2)                   #inserting element: 2 at index: 1\n",
        "print(a)                        #printing array A\n",
        "a.insert(-1,0)                  #insert element:0 at index: -1\n",
        "print(a)\n",
        "a.insert(6,8)                   #insert element: 8 at index:6, this is out of range\n",
        "print(a)                        #append the last element of the array\n",
        "b[0] = 5\n",
        "b[1] = 4\n",
        "b[2] = 3\n",
        "print(b)"
      ],
      "metadata": {
        "colab": {
          "base_uri": "https://localhost:8080/"
        },
        "id": "X2Kk9vF9CrSC",
        "outputId": "daae98ba-ce1d-43b5-ed25-64b03813efa6"
      },
      "execution_count": 19,
      "outputs": [
        {
          "output_type": "stream",
          "name": "stdout",
          "text": [
            "array('i', [4, 2, 5, 6, 7])\n",
            "array('i', [4, 2, 5, 6, 0, 7])\n",
            "array('i', [4, 2, 5, 6, 0, 7, 8])\n",
            "array('i', [5, 4, 3])\n"
          ]
        }
      ]
    },
    {
      "cell_type": "markdown",
      "source": [
        "**Linked List**"
      ],
      "metadata": {
        "id": "qJRo3RAQ1Fv-"
      }
    },
    {
      "cell_type": "code",
      "source": [
        "class Node:                   #initialize the Node class\n",
        "  def __init__(self,data):    #function to initialize the node object\n",
        "    self.data = data          #Assign data\n",
        "    self.next = None          #Initialize\n",
        "\n",
        "class LinkedList:             #initialize the LinkedList class\n",
        "  def __init__(self):         #function to initialize the Linked\n",
        "    self.head = None  #initialize the head of the node\n",
        "  def printList(self):\n",
        "    temp = self.head\n",
        "    while(temp):\n",
        "      print(temp.data)\n",
        "      temp = temp.next\n",
        " \n",
        "#empty list\n",
        "\n",
        "llist = LinkedList()\n",
        "llist.head = Node(1)\n",
        "second = Node(2)\n",
        "third = Node(3)\n",
        "  \n",
        "llist.head.next = second\n",
        "second.next = third\n",
        "\n",
        "llist.printList()"
      ],
      "metadata": {
        "colab": {
          "base_uri": "https://localhost:8080/"
        },
        "id": "5LzqlCrl1Iof",
        "outputId": "028e5cad-10b1-4efb-a824-2d2fc64e50c2"
      },
      "execution_count": 24,
      "outputs": [
        {
          "output_type": "stream",
          "name": "stdout",
          "text": [
            "1\n",
            "2\n",
            "3\n"
          ]
        }
      ]
    },
    {
      "cell_type": "code",
      "source": [],
      "metadata": {
        "id": "2rEEbsBbFwP_"
      },
      "execution_count": null,
      "outputs": []
    },
    {
      "cell_type": "code",
      "source": [
        "from IPython.utils import tempdir\n",
        "#function that creates Node object\n",
        "class Node:                   #initialize Node class\n",
        "  def __init__(self,data):    \n",
        "    self.data = data          #Assign data\n",
        "    self.next = None          #Initialize as null\n",
        "            \n",
        "##function that creates LinkedList object\n",
        "class LinkedList:             #initialize the LinkedList class      \n",
        "  def __init__(self):         \n",
        "    self.head = None          #initialize head as null\n",
        "  def printList(self):\n",
        "    temp = self.head\n",
        "    while(temp):\n",
        "      print(temp.data)\n",
        "      temp = temp.next\n",
        "\n",
        "list = LinkedList()           #empty list\n",
        "list.head = Node(1) \n",
        "second = Node(2)\n",
        "third = Node(3)\n",
        "fourth = Node(4)\n",
        "\n",
        "list.head.next = second\n",
        "second.next = third\n",
        "third.next = fourth\n",
        "\n",
        "list.printList()"
      ],
      "metadata": {
        "colab": {
          "base_uri": "https://localhost:8080/"
        },
        "id": "mdHtFONJFwex",
        "outputId": "c2bba200-afac-478a-b68a-ff95dc65e16a"
      },
      "execution_count": 47,
      "outputs": [
        {
          "output_type": "stream",
          "name": "stdout",
          "text": [
            "1\n",
            "2\n",
            "3\n",
            "4\n"
          ]
        }
      ]
    }
  ]
}